{
 "cells": [
  {
   "cell_type": "code",
   "execution_count": 1,
   "id": "9769fa0f",
   "metadata": {},
   "outputs": [],
   "source": [
    "\"\"\"\n",
    "This is a skeleton of Assignment 2 for DS5110 Spring 2023.\n",
    "NOTE you will need to change the .ipynb file name by following the naming convention.\n",
    "Code should be commented well. \n",
    "Feel free to import any missing packages. \n",
    "\"\"\"\n",
    "import dask\n",
    "from dask.distributed import Client\n",
    "import dask.dataframe as dd\n",
    "import time\n",
    "import json\n",
    "import numpy as np"
   ]
  },
  {
   "cell_type": "code",
   "execution_count": 2,
   "id": "564e23d7",
   "metadata": {},
   "outputs": [
    {
     "name": "stdout",
     "output_type": "stream",
     "text": [
      "<Client: 'tcp://172.31.69.136:8786' processes=8 threads=32, memory=61.31 GiB>\n"
     ]
    }
   ],
   "source": [
    "# TODO: fill out scheduler IP and port here when creating a Dask client object\n",
    "client = Client('172.31.69.136:8786')\n",
    "client = client.restart()\n",
    "print(client)"
   ]
  },
  {
   "cell_type": "code",
   "execution_count": 3,
   "id": "529d115b",
   "metadata": {},
   "outputs": [
    {
     "name": "stdout",
     "output_type": "stream",
     "text": [
      "CPU times: user 694 ms, sys: 2.18 s, total: 2.87 s\n",
      "Wall time: 2.87 s\n"
     ]
    }
   ],
   "source": [
    "%%time\n",
    "\n",
    "# Load the .CSV files into the Dask dataframes\n",
    "questions = dd.read_csv('/home/ubuntu/questions.csv', sample=2**30, assume_missing=True)\n",
    "question_tags = dd.read_csv('/home/ubuntu/question_tags.csv', sample=2**30, assume_missing=True)"
   ]
  },
  {
   "cell_type": "code",
   "execution_count": 5,
   "id": "71a1b698",
   "metadata": {},
   "outputs": [
    {
     "data": {
      "text/html": [
       "<div><strong>Dask DataFrame Structure:</strong></div>\n",
       "<div>\n",
       "<style scoped>\n",
       "    .dataframe tbody tr th:only-of-type {\n",
       "        vertical-align: middle;\n",
       "    }\n",
       "\n",
       "    .dataframe tbody tr th {\n",
       "        vertical-align: top;\n",
       "    }\n",
       "\n",
       "    .dataframe thead th {\n",
       "        text-align: right;\n",
       "    }\n",
       "</style>\n",
       "<table border=\"1\" class=\"dataframe\">\n",
       "  <thead>\n",
       "    <tr style=\"text-align: right;\">\n",
       "      <th></th>\n",
       "      <th>Id</th>\n",
       "      <th>CreationDate</th>\n",
       "      <th>ClosedDate</th>\n",
       "      <th>DeletionDate</th>\n",
       "      <th>Score</th>\n",
       "      <th>OwnerUserId</th>\n",
       "      <th>AnswerCount</th>\n",
       "    </tr>\n",
       "    <tr>\n",
       "      <th>npartitions=14</th>\n",
       "      <th></th>\n",
       "      <th></th>\n",
       "      <th></th>\n",
       "      <th></th>\n",
       "      <th></th>\n",
       "      <th></th>\n",
       "      <th></th>\n",
       "    </tr>\n",
       "  </thead>\n",
       "  <tbody>\n",
       "    <tr>\n",
       "      <th></th>\n",
       "      <td>float64</td>\n",
       "      <td>object</td>\n",
       "      <td>object</td>\n",
       "      <td>object</td>\n",
       "      <td>float64</td>\n",
       "      <td>float64</td>\n",
       "      <td>float64</td>\n",
       "    </tr>\n",
       "    <tr>\n",
       "      <th></th>\n",
       "      <td>...</td>\n",
       "      <td>...</td>\n",
       "      <td>...</td>\n",
       "      <td>...</td>\n",
       "      <td>...</td>\n",
       "      <td>...</td>\n",
       "      <td>...</td>\n",
       "    </tr>\n",
       "    <tr>\n",
       "      <th>...</th>\n",
       "      <td>...</td>\n",
       "      <td>...</td>\n",
       "      <td>...</td>\n",
       "      <td>...</td>\n",
       "      <td>...</td>\n",
       "      <td>...</td>\n",
       "      <td>...</td>\n",
       "    </tr>\n",
       "    <tr>\n",
       "      <th></th>\n",
       "      <td>...</td>\n",
       "      <td>...</td>\n",
       "      <td>...</td>\n",
       "      <td>...</td>\n",
       "      <td>...</td>\n",
       "      <td>...</td>\n",
       "      <td>...</td>\n",
       "    </tr>\n",
       "    <tr>\n",
       "      <th></th>\n",
       "      <td>...</td>\n",
       "      <td>...</td>\n",
       "      <td>...</td>\n",
       "      <td>...</td>\n",
       "      <td>...</td>\n",
       "      <td>...</td>\n",
       "      <td>...</td>\n",
       "    </tr>\n",
       "  </tbody>\n",
       "</table>\n",
       "</div>\n",
       "<div>Dask Name: read-csv, 1 graph layer</div>"
      ],
      "text/plain": [
       "Dask DataFrame Structure:\n",
       "                     Id CreationDate ClosedDate DeletionDate    Score OwnerUserId AnswerCount\n",
       "npartitions=14                                                                               \n",
       "                float64       object     object       object  float64     float64     float64\n",
       "                    ...          ...        ...          ...      ...         ...         ...\n",
       "...                 ...          ...        ...          ...      ...         ...         ...\n",
       "                    ...          ...        ...          ...      ...         ...         ...\n",
       "                    ...          ...        ...          ...      ...         ...         ...\n",
       "Dask Name: read-csv, 1 graph layer"
      ]
     },
     "execution_count": 5,
     "metadata": {},
     "output_type": "execute_result"
    }
   ],
   "source": [
    "questions"
   ]
  },
  {
   "cell_type": "code",
   "execution_count": 38,
   "id": "b1847f10",
   "metadata": {},
   "outputs": [
    {
     "name": "stdout",
     "output_type": "stream",
     "text": [
      "Questions Missing\n",
      "Id               0.000000\n",
      "CreationDate     0.000000\n",
      "ClosedDate      89.973578\n",
      "DeletionDate    76.962907\n",
      "Score            0.000000\n",
      "OwnerUserId     23.920885\n",
      "AnswerCount     10.114036\n",
      "dtype: float64\n",
      "Questions Tags Missing\n",
      "Id     0.000000\n",
      "Tag    0.027501\n",
      "dtype: float64\n",
      "CPU times: user 85.2 ms, sys: 13.4 ms, total: 98.6 ms\n",
      "Wall time: 24.5 s\n"
     ]
    }
   ],
   "source": [
    "%%time\n",
    "# Task 1\n",
    "\n",
    "# TODO: Start your implementation below this line\n",
    "questions_missing = questions.isna().mean().compute() * 100\n",
    "question_tags_missing = question_tags.isna().mean().compute() * 100\n",
    "\n",
    "print('Questions Missing')\n",
    "print(questions_missing)\n",
    "\n",
    "print('Questions Tags Missing')\n",
    "print(question_tags_missing)"
   ]
  },
  {
   "cell_type": "code",
   "execution_count": 39,
   "id": "d5f3fa86",
   "metadata": {},
   "outputs": [
    {
     "name": "stdout",
     "output_type": "stream",
     "text": [
      "Mean Score: 1.2041671665555287\n",
      "Standard deviation of Score: 15.64573552737141\n",
      "Median Score: 1.0\n",
      "Min Score: -154.0\n",
      "Max Score: 16902.0\n",
      "CPU times: user 113 ms, sys: 9.9 ms, total: 123 ms\n",
      "Wall time: 19.7 s\n"
     ]
    }
   ],
   "source": [
    "%%time\n",
    "# Task 2\n",
    "\n",
    "# TODO: Start your implementation below this line\n",
    "\n",
    "# calculate various summary statistics for column 'A'\n",
    "mean_score = questions['Score'].mean().compute()\n",
    "std_score = questions['Score'].std().compute()\n",
    "median_score = questions['Score'].median_approximate().compute()\n",
    "min_score = questions['Score'].min().compute()\n",
    "max_score = questions['Score'].max().compute()\n",
    "\n",
    "# print the results\n",
    "print('Mean Score:', mean_score)\n",
    "print('Standard deviation of Score:', std_score)\n",
    "print('Median Score:', median_score)\n",
    "print('Min Score:', min_score)\n",
    "print('Max Score:', max_score)\n"
   ]
  },
  {
   "cell_type": "code",
   "execution_count": 40,
   "id": "1b0722e3",
   "metadata": {},
   "outputs": [
    {
     "name": "stdout",
     "output_type": "stream",
     "text": [
      "                 Id\n",
      "Tag                \n",
      "javascript  1649631\n",
      "java        1563820\n",
      "php         1365600\n",
      "c#          1321027\n",
      "android     1288338\n",
      "CPU times: user 43.2 ms, sys: 11 ms, total: 54.2 ms\n",
      "Wall time: 11.6 s\n"
     ]
    }
   ],
   "source": [
    "%%time\n",
    "# Task 3\n",
    "\n",
    "# TODO: Start your implementation below this line\n",
    "tag_counts = question_tags.groupby('Tag').count()\n",
    "sorted_tags = tag_counts.compute().sort_values(by='Id', ascending=False)\n",
    "top_5_tags = sorted_tags.head(5)\n",
    "print(top_5_tags)\n"
   ]
  },
  {
   "cell_type": "code",
   "execution_count": 41,
   "id": "b6d9702e",
   "metadata": {},
   "outputs": [
    {
     "name": "stdout",
     "output_type": "stream",
     "text": [
      "tagged\n",
      "0    17198444\n",
      "1        5380\n",
      "Name: Id, dtype: int64\n",
      "CPU times: user 83 ms, sys: 1.65 ms, total: 84.6 ms\n",
      "Wall time: 1min\n"
     ]
    }
   ],
   "source": [
    "%%time\n",
    "# Task 4\n",
    "\n",
    "# TODO: Start your implementation below this line\n",
    "\n",
    "# join the dataframes and create a boolean mask\n",
    "joined = questions.merge(question_tags, left_on='Id', right_on='Id', how='left')\n",
    "mask = joined['Tag'].isna()\n",
    "\n",
    "# tag the questions\n",
    "tagged = questions.assign(tagged=mask.astype(int))\n",
    "tag_counts = tagged.groupby('tagged')['Id'].count()\n",
    "\n",
    "# print the result\n",
    "print(tag_counts.compute())"
   ]
  },
  {
   "cell_type": "code",
   "execution_count": 42,
   "id": "6d183040",
   "metadata": {},
   "outputs": [
    {
     "name": "stdout",
     "output_type": "stream",
     "text": [
      "   OwnerUserId  AverageScore  NumQuestions  NumAnswers\n",
      "0          8.0    458.000000             1        13.0\n",
      "1          9.0     37.052632            19        66.0\n",
      "2          1.0    298.400000            15       344.0\n",
      "3         11.0    290.000000             1         8.0\n",
      "4          2.0     31.428571             7        28.0\n",
      "CPU times: user 50.1 ms, sys: 1.42 ms, total: 51.5 ms\n",
      "Wall time: 11.1 s\n"
     ]
    }
   ],
   "source": [
    "%%time\n",
    "# Task 5\n",
    "\n",
    "# TODO: Start your implementation below this line\n",
    "\n",
    "# Group the questions by OwnerUserId and calculate the aggregated values\n",
    "owner_user_df = questions.groupby('OwnerUserId').agg({\n",
    "    'Score': 'mean',\n",
    "    'Id': 'count',\n",
    "    'AnswerCount': 'sum'\n",
    "})\n",
    "\n",
    "# Rename the columns to match the required output\n",
    "owner_user_df = owner_user_df.rename(columns={\n",
    "    'Score': 'AverageScore',\n",
    "    'Id': 'NumQuestions',\n",
    "    'AnswerCount': 'NumAnswers'\n",
    "})\n",
    "\n",
    "# Reset the index to turn the OwnerUserId column into a regular column\n",
    "owner_user_df = owner_user_df.reset_index()\n",
    "\n",
    "# Display the resulting owner user table\n",
    "print(owner_user_df.head())\n"
   ]
  },
  {
   "cell_type": "code",
   "execution_count": 37,
   "id": "ee679e1c",
   "metadata": {},
   "outputs": [
    {
     "name": "stdout",
     "output_type": "stream",
     "text": [
      "            Tag  AverageScore  NumAnswers  NumQuestions  NumOwners\n",
      "0           php      0.375525   1855546.0       1365600    1017270\n",
      "1       plugins      0.903577     25199.0         27452      17995\n",
      "2  architecture      2.018781     25229.0         16293      11549\n",
      "3          hook      1.144506      4854.0          4851       3581\n",
      "4          linq      1.824996    123939.0         69770      61034\n",
      "CPU times: user 89.3 ms, sys: 12 ms, total: 101 ms\n",
      "Wall time: 59.9 s\n"
     ]
    }
   ],
   "source": [
    "%%time\n",
    "# Task 6\n",
    "\n",
    "# TODO: Start your implementation below this line\n",
    "\n",
    "# Merge the two tables using Id as the index\n",
    "merged_df = questions.merge(question_tags, on='Id')\n",
    "\n",
    "# Group the merged table by Tag and calculate the aggregated values\n",
    "tag_df = merged_df.groupby('Tag').agg({\n",
    "    'Score': 'mean',\n",
    "    'AnswerCount': 'sum',\n",
    "    'Id': 'count',\n",
    "    'OwnerUserId': 'count'\n",
    "})\n",
    "\n",
    "# Rename the columns to match the required output\n",
    "tag_df = tag_df.rename(columns={\n",
    "    'Score': 'AverageScore',\n",
    "    'AnswerCount': 'NumAnswers',\n",
    "    'Id': 'NumQuestions',\n",
    "    'OwnerUserId': 'NumOwners'\n",
    "})\n",
    "\n",
    "# Reset the index to turn the Tag column into a regular column\n",
    "tag_df = tag_df.reset_index()\n",
    "\n",
    "# Display the resulting table\n",
    "print(tag_df.head())\n"
   ]
  },
  {
   "cell_type": "code",
   "execution_count": null,
   "id": "800d82c3",
   "metadata": {},
   "outputs": [],
   "source": []
  }
 ],
 "metadata": {
  "kernelspec": {
   "display_name": "Python 3 (ipykernel)",
   "language": "python",
   "name": "python3"
  },
  "language_info": {
   "codemirror_mode": {
    "name": "ipython",
    "version": 3
   },
   "file_extension": ".py",
   "mimetype": "text/x-python",
   "name": "python",
   "nbconvert_exporter": "python",
   "pygments_lexer": "ipython3",
   "version": "3.10.6"
  }
 },
 "nbformat": 4,
 "nbformat_minor": 5
}
