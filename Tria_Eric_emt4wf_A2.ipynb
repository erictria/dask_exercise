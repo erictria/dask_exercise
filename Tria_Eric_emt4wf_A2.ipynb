{
 "cells": [
  {
   "cell_type": "code",
   "execution_count": 1,
   "id": "9769fa0f",
   "metadata": {},
   "outputs": [],
   "source": [
    "\"\"\"\n",
    "Assignment 2\n",
    "Eric Tria\n",
    "emt4wf\n",
    "\"\"\"\n",
    "import dask\n",
    "from dask.distributed import Client\n",
    "import dask.dataframe as dd\n",
    "import dask.array as da\n",
    "import time\n",
    "import json\n",
    "import numpy as np"
   ]
  },
  {
   "cell_type": "code",
   "execution_count": 2,
   "id": "564e23d7",
   "metadata": {},
   "outputs": [
    {
     "name": "stdout",
     "output_type": "stream",
     "text": [
      "<Client: 'tcp://172.31.69.136:8786' processes=8 threads=32, memory=61.31 GiB>\n"
     ]
    }
   ],
   "source": [
    "# TODO: fill out scheduler IP and port here when creating a Dask client object\n",
    "# This is the private IP Address of my VM with the Dask Scheduler\n",
    "# To run, make sure to change the IP Address with yours\n",
    "\n",
    "client = Client('172.31.69.136:8786')\n",
    "client = client.restart()\n",
    "print(client)"
   ]
  },
  {
   "cell_type": "code",
   "execution_count": null,
   "id": "c99765fc",
   "metadata": {},
   "outputs": [],
   "source": [
    "x = da.random.normal(size = 100_000_000, chunks = 1_000_000)"
   ]
  },
  {
   "cell_type": "code",
   "execution_count": null,
   "id": "dee9f3ab",
   "metadata": {},
   "outputs": [],
   "source": [
    "dask.visualize(x)"
   ]
  },
  {
   "cell_type": "code",
   "execution_count": 3,
   "id": "529d115b",
   "metadata": {},
   "outputs": [
    {
     "name": "stdout",
     "output_type": "stream",
     "text": [
      "CPU times: user 694 ms, sys: 2.18 s, total: 2.87 s\n",
      "Wall time: 2.87 s\n"
     ]
    }
   ],
   "source": [
    "%%time\n",
    "\n",
    "# Load the .CSV files into the Dask dataframes\n",
    "# Loading the questions and question_tags files\n",
    "questions = dd.read_csv('/home/ubuntu/questions.csv', sample=2**30, assume_missing=True)\n",
    "question_tags = dd.read_csv('/home/ubuntu/question_tags.csv', sample=2**30, assume_missing=True)"
   ]
  },
  {
   "cell_type": "markdown",
   "id": "1620e1cd",
   "metadata": {},
   "source": [
    "### Task 1\n",
    "Get the percentage of missing values for all the columns in the *questions* table and the *question_tags* table."
   ]
  },
  {
   "cell_type": "code",
   "execution_count": 38,
   "id": "b1847f10",
   "metadata": {},
   "outputs": [
    {
     "name": "stdout",
     "output_type": "stream",
     "text": [
      "Questions Missing\n",
      "Id               0.000000\n",
      "CreationDate     0.000000\n",
      "ClosedDate      89.973578\n",
      "DeletionDate    76.962907\n",
      "Score            0.000000\n",
      "OwnerUserId     23.920885\n",
      "AnswerCount     10.114036\n",
      "dtype: float64\n",
      "Questions Tags Missing\n",
      "Id     0.000000\n",
      "Tag    0.027501\n",
      "dtype: float64\n",
      "CPU times: user 85.2 ms, sys: 13.4 ms, total: 98.6 ms\n",
      "Wall time: 24.5 s\n"
     ]
    }
   ],
   "source": [
    "%%time\n",
    "# Task 1\n",
    "\n",
    "# TODO: Start your implementation below this line\n",
    "# Get the number of NA values per column (.isna()) and divides it by the total (.mean()) to get the percentage\n",
    "questions_missing = questions.isna().mean().compute() * 100\n",
    "question_tags_missing = question_tags.isna().mean().compute() * 100\n",
    "\n",
    "print('Questions Missing')\n",
    "print(questions_missing)\n",
    "\n",
    "print('')\n",
    "print('Questions Tags Missing')\n",
    "print(question_tags_missing)"
   ]
  },
  {
   "cell_type": "markdown",
   "id": "0574e783",
   "metadata": {},
   "source": [
    "### Task 2\n",
    "Get *mean, standard deviation, medium, min, and max* of the Score column in the *questions* table."
   ]
  },
  {
   "cell_type": "code",
   "execution_count": 39,
   "id": "d5f3fa86",
   "metadata": {},
   "outputs": [
    {
     "name": "stdout",
     "output_type": "stream",
     "text": [
      "Mean Score: 1.2041671665555287\n",
      "Standard deviation of Score: 15.64573552737141\n",
      "Median Score: 1.0\n",
      "Min Score: -154.0\n",
      "Max Score: 16902.0\n",
      "CPU times: user 113 ms, sys: 9.9 ms, total: 123 ms\n",
      "Wall time: 19.7 s\n"
     ]
    }
   ],
   "source": [
    "%%time\n",
    "# Task 2\n",
    "\n",
    "# TODO: Start your implementation below this line\n",
    "\n",
    "# calculate various summary statistics for column 'A'\n",
    "# Mean\n",
    "mean_score = questions['Score'].mean().compute()\n",
    "\n",
    "# Standard Deviation\n",
    "std_score = questions['Score'].std().compute()\n",
    "\n",
    "# Median\n",
    "\n",
    "median_score = questions['Score'].median().compute()\n",
    "median_score_approx = questions['Score'].median_approximate().compute()\n",
    "median_score_quant = questions['Score'].quantile(0.5).compute()\n",
    "\n",
    "# Min\n",
    "min_score = questions['Score'].min().compute()\n",
    "\n",
    "# Max\n",
    "max_score = questions['Score'].max().compute()\n",
    "\n",
    "# Print the results\n",
    "print('Mean Score:', mean_score)\n",
    "print('Standard deviation of Score:', std_score)\n",
    "print('Median Score:', median_score)\n",
    "print('Min Score:', min_score)\n",
    "print('Max Score:', max_score)"
   ]
  },
  {
   "cell_type": "markdown",
   "id": "1f24e580",
   "metadata": {},
   "source": [
    "### Task 3\n",
    "Get the top 5 tags that have the highest number of questions (hint: manipulate the *question_tags* table)."
   ]
  },
  {
   "cell_type": "code",
   "execution_count": 40,
   "id": "1b0722e3",
   "metadata": {},
   "outputs": [
    {
     "name": "stdout",
     "output_type": "stream",
     "text": [
      "                 Id\n",
      "Tag                \n",
      "javascript  1649631\n",
      "java        1563820\n",
      "php         1365600\n",
      "c#          1321027\n",
      "android     1288338\n",
      "CPU times: user 43.2 ms, sys: 11 ms, total: 54.2 ms\n",
      "Wall time: 11.6 s\n"
     ]
    }
   ],
   "source": [
    "%%time\n",
    "# Task 3\n",
    "\n",
    "# TODO: Start your implementation below this line\n",
    "# Group the question_tags table by Tag and count the values\n",
    "# Sort the counts in descending order and get the top 5 rows to get the top 5 tags\n",
    "tag_counts = question_tags.groupby('Tag').count().compute().sort_values(by = 'Id', ascending = False)\n",
    "top_5_tags = tag_counts.head(5)\n",
    "print(top_5_tags)"
   ]
  },
  {
   "cell_type": "markdown",
   "id": "461f650b",
   "metadata": {},
   "source": [
    "### Task 4\n",
    "Check if there are any dangling references to the question Id field from the *questions* table to *question_tags* table. Return 1 if there are dangling references; return 0 otherwise."
   ]
  },
  {
   "cell_type": "code",
   "execution_count": 41,
   "id": "b6d9702e",
   "metadata": {},
   "outputs": [
    {
     "name": "stdout",
     "output_type": "stream",
     "text": [
      "tagged\n",
      "0    17198444\n",
      "1        5380\n",
      "Name: Id, dtype: int64\n",
      "CPU times: user 83 ms, sys: 1.65 ms, total: 84.6 ms\n",
      "Wall time: 1min\n"
     ]
    }
   ],
   "source": [
    "%%time\n",
    "# Task 4\n",
    "\n",
    "# TODO: Start your implementation below this line\n",
    "\n",
    "# Join the questions and question_tags tables on Id\n",
    "# The boolean mask checks if the Tag column is NA. NA = dangling reference\n",
    "joined = questions.merge(question_tags, left_on = 'Id', right_on = 'Id', how = 'left')\n",
    "mask = joined['Tag'].isna()\n",
    "\n",
    "# Create a new dataframe dangling with the boolean mask converted to an int value\n",
    "# 1 = dangling, 0 = not dangling\n",
    "dangling = questions.assign(dangling = mask.astype(int))\n",
    "\n",
    "# Summarize by counting number of IDs that are dangling vs those that are not\n",
    "dangling_counts = dangling.groupby('dangling')['Id'].count()\n",
    "\n",
    "# Print the summary of counts of dangling IDs\n",
    "print(dangling_counts.compute())"
   ]
  },
  {
   "cell_type": "markdown",
   "id": "743b8f1f",
   "metadata": {},
   "source": [
    "### Task 5\n",
    "Create a new owner user table based on the questions table grouped by the OwnerUserId field. Refer to this link for Dask’s groupby operator. The new table should have the following fields: (1) OwnerUserId: the field that the table is grouped by; (2) AverageScore: aggregated by getting the average score value of the owner user; (3) NumQuestions: aggregated by getting count value of the Id field of corresponding owner users; (4) NumAnswers: aggregated by getting the sum value of the AnswerCount field of corresponding owner users.\n",
    "\n",
    "Output the top 5 owner users who asked the most number of questions."
   ]
  },
  {
   "cell_type": "code",
   "execution_count": 42,
   "id": "6d183040",
   "metadata": {},
   "outputs": [
    {
     "name": "stdout",
     "output_type": "stream",
     "text": [
      "   OwnerUserId  AverageScore  NumQuestions  NumAnswers\n",
      "0          8.0    458.000000             1        13.0\n",
      "1          9.0     37.052632            19        66.0\n",
      "2          1.0    298.400000            15       344.0\n",
      "3         11.0    290.000000             1         8.0\n",
      "4          2.0     31.428571             7        28.0\n",
      "CPU times: user 50.1 ms, sys: 1.42 ms, total: 51.5 ms\n",
      "Wall time: 11.1 s\n"
     ]
    }
   ],
   "source": [
    "%%time\n",
    "# Task 5\n",
    "\n",
    "# TODO: Start your implementation below this line\n",
    "\n",
    "# Group the questions by OwnerUserId and calculate the aggregated values\n",
    "# Apply mean to Score, count to Id, and sum to AnswerCount\n",
    "owner_user_df = questions.groupby('OwnerUserId').agg({\n",
    "    'Score': 'mean',\n",
    "    'Id': 'count',\n",
    "    'AnswerCount': 'sum'\n",
    "})\n",
    "\n",
    "# Rename the columns to match the column names in the given schema\n",
    "owner_user_df = owner_user_df.rename(columns={\n",
    "    'Score': 'AverageScore',\n",
    "    'Id': 'NumQuestions',\n",
    "    'AnswerCount': 'NumAnswers'\n",
    "})\n",
    "\n",
    "# Reset the index to turn the OwnerUserId column into a regular column\n",
    "# OwnerUserId turned into an Index because of the groupby operation earlier\n",
    "owner_user_df = owner_user_df.reset_index()\n",
    "\n",
    "# Display the resulting owner user table\n",
    "# Getting the top 5 users who answered the most questions\n",
    "print('Top 5 Owner Users who answered the most questions:')\n",
    "print(owner_user_df.sort_values(by = 'NumAnswers', ascending = False).head(5))\n"
   ]
  },
  {
   "cell_type": "markdown",
   "id": "5edfd11e",
   "metadata": {},
   "source": [
    "### Task 6\n",
    "Create a new table by merging the questions table and the question_tags table using Id as the index. Then group the new table by Tag with the following aggregated fields: (1) Tag: the field that the table is grouped by; (2) AverageScore: aggregated by getting the average score value of the corresponding tags; (3) NumAnswers: aggregated by getting the sum value of the AnswerCount field of corresponding tags; (4) NumQuestions: aggregated by getting the count value of the Id field of corresponding tags; and (5) NumOwners: aggregated by getting the count value of the OwnerUserId field of corresponding tags.\n",
    "\n",
    "This task should output the top 5 tags with the highest number of questions and the top 5 tags with the highest number of answers received."
   ]
  },
  {
   "cell_type": "code",
   "execution_count": 37,
   "id": "ee679e1c",
   "metadata": {},
   "outputs": [
    {
     "name": "stdout",
     "output_type": "stream",
     "text": [
      "            Tag  AverageScore  NumAnswers  NumQuestions  NumOwners\n",
      "0           php      0.375525   1855546.0       1365600    1017270\n",
      "1       plugins      0.903577     25199.0         27452      17995\n",
      "2  architecture      2.018781     25229.0         16293      11549\n",
      "3          hook      1.144506      4854.0          4851       3581\n",
      "4          linq      1.824996    123939.0         69770      61034\n",
      "CPU times: user 89.3 ms, sys: 12 ms, total: 101 ms\n",
      "Wall time: 59.9 s\n"
     ]
    }
   ],
   "source": [
    "%%time\n",
    "# Task 6\n",
    "\n",
    "# TODO: Start your implementation below this line\n",
    "\n",
    "# Merge the two tables on the Id column\n",
    "merged_df = questions.merge(question_tags, on='Id')\n",
    "\n",
    "# Group the merged table by Tag and calculate the aggregated values\n",
    "# Apply mean to Score, sum to AnswerCount, and count to Id and OwnerUserId\n",
    "tag_df = merged_df.groupby('Tag').agg({\n",
    "    'Score': 'mean',\n",
    "    'AnswerCount': 'sum',\n",
    "    'Id': 'count',\n",
    "    'OwnerUserId': 'count'\n",
    "})\n",
    "\n",
    "# Rename the columns to match the required column names in the schema\n",
    "tag_df = tag_df.rename(columns={\n",
    "    'Score': 'AverageScore',\n",
    "    'AnswerCount': 'NumAnswers',\n",
    "    'Id': 'NumQuestions',\n",
    "    'OwnerUserId': 'NumOwners'\n",
    "})\n",
    "\n",
    "# Reset the index to turn the Tag column into a regular column\n",
    "# Tag was turned into an index because of the groupby operation\n",
    "tag_df = tag_df.reset_index()\n",
    "\n",
    "# Getting the top 5 tags with the highest number of questions\n",
    "print('Top 5 tags with the highest number of questions:')\n",
    "print(tag_df.sort_values(by = 'NumQuestions', ascending = False).head(5))\n",
    "print('')\n",
    "\n",
    "# Getting the top 5 tags with the highest number of answers\n",
    "print('Top 5 tags with the highest number of answers:')\n",
    "print(tag_df.sort_values(by = 'NumAnswers', ascending = False).head(5))\n"
   ]
  },
  {
   "cell_type": "code",
   "execution_count": null,
   "id": "800d82c3",
   "metadata": {},
   "outputs": [],
   "source": []
  }
 ],
 "metadata": {
  "kernelspec": {
   "display_name": "Python 3 (ipykernel)",
   "language": "python",
   "name": "python3"
  },
  "language_info": {
   "codemirror_mode": {
    "name": "ipython",
    "version": 3
   },
   "file_extension": ".py",
   "mimetype": "text/x-python",
   "name": "python",
   "nbconvert_exporter": "python",
   "pygments_lexer": "ipython3",
   "version": "3.10.6"
  }
 },
 "nbformat": 4,
 "nbformat_minor": 5
}
